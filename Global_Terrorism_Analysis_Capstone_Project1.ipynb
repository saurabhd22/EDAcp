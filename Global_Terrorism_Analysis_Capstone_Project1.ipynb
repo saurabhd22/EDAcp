{
  "nbformat": 4,
  "nbformat_minor": 0,
  "metadata": {
    "kernelspec": {
      "display_name": "Python 3",
      "language": "python",
      "name": "python3"
    },
    "language_info": {
      "codemirror_mode": {
        "name": "ipython",
        "version": 3
      },
      "file_extension": ".py",
      "mimetype": "text/x-python",
      "name": "python",
      "nbconvert_exporter": "python",
      "pygments_lexer": "ipython3",
      "version": "3.6.6"
    },
    "colab": {
      "name": "Global Terrorism Analysis - Capstone Project1.ipynb",
      "provenance": [],
      "collapsed_sections": [],
      "include_colab_link": true
    }
  },
  "cells": [
    {
      "cell_type": "markdown",
      "metadata": {
        "id": "view-in-github",
        "colab_type": "text"
      },
      "source": [
        "<a href=\"https://colab.research.google.com/github/saurabhd22/EDAcp/blob/main/Global_Terrorism_Analysis_Capstone_Project1.ipynb\" target=\"_parent\"><img src=\"https://colab.research.google.com/assets/colab-badge.svg\" alt=\"Open In Colab\"/></a>"
      ]
    },
    {
      "cell_type": "markdown",
      "metadata": {
        "id": "Y06xIdG26kRF"
      },
      "source": [
        "## <b> The Global Terrorism Database (GTD) is an open-source database including information on terrorist attacks around the world from 1970 through 2017. The GTD includes systematic data on domestic as well as international terrorist incidents that have occurred during this time period and now includes more than 180,000 attacks. The database is maintained by researchers at the National Consortium for the Study of Terrorism and Responses to Terrorism (START), headquartered at the University of Maryland.</b>\n",
        "\n",
        "# <b> Explore and analyze the data to discover key findings pertaining to terrorist activities. </b>"
      ]
    },
    {
      "cell_type": "markdown",
      "source": [
        "# Explore : travel through (an unfamiliar area) in order to learn about it. \n",
        "## What is a single most important task for an explorer ? \" When you travel into unknown lands to discover new part of the world, it is to ensure records of your discoveries are delivered back safe and sound, with or without you. Otherwise, it is all vein\" An intruging line from a netflix movie 'Against the ice'\n",
        "\n",
        "Exploration of data in data science is as important as the age of exploration (discovery) was for geography, history, science and  humanity. Age of exploration seeded the idea of globalization in true sense. Today one of the major challenges faced by the global world is terrorism. \n",
        "\n",
        "With access to The Global Terrorism Database our first task is to really explore the data to really understand it and try to learn from it. \n",
        "We really dont know what we gonna find out but, very excited!\n",
        "\n",
        "\n",
        "So here go !"
      ],
      "metadata": {
        "id": "8DIrv6IVYDLZ"
      }
    },
    {
      "cell_type": "markdown",
      "source": [
        "# Lets begin with rituals !"
      ],
      "metadata": {
        "id": "1Rcg1QdsfxmS"
      }
    },
    {
      "cell_type": "code",
      "metadata": {
        "id": "dByMsuzT8Tnw"
      },
      "source": [
        "# Though it's not mandetory still, it always has to be np and pd.!\n",
        "\n",
        "import numpy as np\n",
        "import pandas as pd"
      ],
      "execution_count": null,
      "outputs": []
    },
    {
      "cell_type": "code",
      "source": [
        "# Mounting the drive\n",
        "\n",
        "from google.colab import drive\n",
        "drive.mount('/content/drive')"
      ],
      "metadata": {
        "id": "j8QkA-ZolMrL"
      },
      "execution_count": null,
      "outputs": []
    },
    {
      "cell_type": "code",
      "source": [
        "# Loading the csv file containing data\n",
        "df=pd.read_csv('/content/drive/MyDrive/EDA CP1 SaurabhD/GTD1.csv',encoding=\"ISO-8859-1\")"
      ],
      "metadata": {
        "id": "Z8WBzinTlNbg"
      },
      "execution_count": null,
      "outputs": []
    },
    {
      "cell_type": "code",
      "source": [
        "# As we have the data now, lets see what's in it.\n",
        "df.info()"
      ],
      "metadata": {
        "id": "L85aZPcYmCVn"
      },
      "execution_count": null,
      "outputs": []
    },
    {
      "cell_type": "markdown",
      "source": [
        "## This .info() didn't really show the basic information about our dataframe as expected. So we had to do some exploration on google to be able to view elaborate basic information."
      ],
      "metadata": {
        "id": "Xrq1LhqwgFCw"
      }
    },
    {
      "cell_type": "code",
      "source": [
        "# Below code gave us the info of all colums, their data types and null values. \n",
        "# Only df.info(verbose = True) gives all columns but doesn't show count of null values\n",
        "df.info(verbose = True,null_counts = True)"
      ],
      "metadata": {
        "id": "itY8Heris7Li"
      },
      "execution_count": null,
      "outputs": []
    },
    {
      "cell_type": "markdown",
      "source": [
        "# 135 columns of data with with acronymed headers. \n",
        "## Looks like we need to read all 135 column names try to figure out what data they are really storing."
      ],
      "metadata": {
        "id": "1qdQg1athVUi"
      }
    },
    {
      "cell_type": "code",
      "source": [
        "# This was supposed to show us name of all columns but, looks like we need to again take help from google.\n",
        "df.columns"
      ],
      "metadata": {
        "id": "PyraUGpLndwf"
      },
      "execution_count": null,
      "outputs": []
    },
    {
      "cell_type": "code",
      "source": [
        "# Basic\n",
        "df.shape"
      ],
      "metadata": {
        "id": "MtDQ6A-No0qt"
      },
      "execution_count": null,
      "outputs": []
    },
    {
      "cell_type": "code",
      "source": [
        "# Thats a lot of data\n",
        "df.size"
      ],
      "metadata": {
        "id": "iNGkZNlgij8b"
      },
      "execution_count": null,
      "outputs": []
    },
    {
      "cell_type": "code",
      "source": [
        "# This is supposed to show first 5 rows of dataframe which it did but while hiding many many columns in middle.\n",
        "df.head()"
      ],
      "metadata": {
        "id": "sz_Gx7D3n7Jj"
      },
      "execution_count": null,
      "outputs": []
    },
    {
      "cell_type": "code",
      "source": [
        "# So this is what we had to do to get all the columns, just say 'display.max_columns'\n",
        "pd.set_option('display.max_columns', None)"
      ],
      "metadata": {
        "id": "u6eXI48q3nAF"
      },
      "execution_count": null,
      "outputs": []
    },
    {
      "cell_type": "code",
      "source": [
        "# And yes we are able to see all columns. Feels quite like an explorer !\n",
        "df.head()"
      ],
      "metadata": {
        "id": "tTzlt5O43sWl"
      },
      "execution_count": null,
      "outputs": []
    },
    {
      "cell_type": "code",
      "source": [
        "df.tail()"
      ],
      "metadata": {
        "id": "GVXWgA-rlntN"
      },
      "execution_count": null,
      "outputs": []
    },
    {
      "cell_type": "markdown",
      "source": [
        "# I think we can call this Data Cleaning!\n",
        "## After a tedious task of veiwing content of each of 135x column just through head and tail and correlating with basic information about type of data and null values. We had to pick the columns which seemed to have more relevent and readable information.\n",
        "## So in below code we picked the column names for use in our further exploration and analys."
      ],
      "metadata": {
        "id": "zzJuXNrqkshs"
      }
    },
    {
      "cell_type": "code",
      "source": [
        "# Just lis of column names handpicked from complete df\n",
        "columns_to_use = ['eventid', 'iyear', 'imonth', 'iday', 'country_txt', 'region_txt', 'success' , 'suicide' ,'attacktype1', 'attacktype1_txt' , 'targtype1_txt', 'gname' , 'weaptype1_txt' , 'nkill', 'nwound', 'propextent_txt' , 'propvalue' , 'ransompaid'  ]"
      ],
      "metadata": {
        "id": "ZjGdHVyU2Yrn"
      },
      "execution_count": null,
      "outputs": []
    },
    {
      "cell_type": "code",
      "source": [
        "# So we are going ahead with total 17 columns\n",
        "len(columns_to_use)"
      ],
      "metadata": {
        "id": "bdlrgmOBKjoE"
      },
      "execution_count": null,
      "outputs": []
    },
    {
      "cell_type": "markdown",
      "source": [
        "# Creating new data frame for further use with 'columns_to_use' "
      ],
      "metadata": {
        "id": "DC00-ucxm-92"
      }
    },
    {
      "cell_type": "code",
      "source": [
        "# Passing a list of shortlisted columns names into new_df\n",
        "new_df = df[columns_to_use]"
      ],
      "metadata": {
        "id": "8SLJFpPg9WRz"
      },
      "execution_count": null,
      "outputs": []
    },
    {
      "cell_type": "code",
      "source": [
        "# Just reading out the basic information of new df\n",
        "new_df.info()"
      ],
      "metadata": {
        "id": "onHJ9Tf99gs7"
      },
      "execution_count": null,
      "outputs": []
    },
    {
      "cell_type": "code",
      "source": [
        "# Lets raname column names to familiar names\n",
        "new_df.rename(columns={'iyear':'Year','imonth':'Month','iday':'Day','country_txt':'Country', 'region_txt':'Region', 'success': 'Success',\n",
        "                       'attacktype1_txt':'Type_Of_Attack','targtype1_txt':'Target_Group', 'gname':'Terrorist_Group', 'weaptype1_txt' : 'Weapons' , 'nkill':'Killed',\n",
        "                       'nwound':'Wounded','propextent_txt':'Property_Dam','propvalue':'Damage_To_Prop','ransompaid':'ransompaid'},inplace=True)"
      ],
      "metadata": {
        "id": "sDQGzTOVDXGe"
      },
      "execution_count": null,
      "outputs": []
    },
    {
      "cell_type": "code",
      "source": [
        "# Lets see if last code did work \n",
        "new_df.info()"
      ],
      "metadata": {
        "id": "AmOtdu6eFIog"
      },
      "execution_count": null,
      "outputs": []
    },
    {
      "cell_type": "code",
      "source": [
        "# Count of reported terrorist events.\n",
        "new_df.eventid.nunique()"
      ],
      "metadata": {
        "id": "znVziNSQv8z_"
      },
      "execution_count": null,
      "outputs": []
    },
    {
      "cell_type": "code",
      "source": [
        "# Count of successful events out of reported ones.\n",
        "new_df.Success.value_counts()"
      ],
      "metadata": {
        "id": "tMTqRxJ8wK0W"
      },
      "execution_count": null,
      "outputs": []
    },
    {
      "cell_type": "code",
      "source": [
        "# Finding count of unique values in country column.\n",
        "new_df.Country.nunique()"
      ],
      "metadata": {
        "id": "cfuaHLVR2CAm"
      },
      "execution_count": null,
      "outputs": []
    },
    {
      "cell_type": "markdown",
      "source": [
        "# There are 205 countries in data"
      ],
      "metadata": {
        "id": "cEh0TPLVqEps"
      }
    },
    {
      "cell_type": "code",
      "source": [
        "# Reading unique values in country column.\n",
        "new_df.Country.unique()"
      ],
      "metadata": {
        "id": "gWTLcO1vqOFh"
      },
      "execution_count": null,
      "outputs": []
    },
    {
      "cell_type": "code",
      "source": [
        "# Lets see the country wise number of attacks.\n",
        "new_df['Country'].value_counts()"
      ],
      "metadata": {
        "id": "KzxOJuuyuFd-"
      },
      "execution_count": null,
      "outputs": []
    },
    {
      "cell_type": "markdown",
      "source": [
        "# The Country with highest number of terrorist attacks"
      ],
      "metadata": {
        "id": "ZfesWjI4t5NT"
      }
    },
    {
      "cell_type": "code",
      "source": [
        "# So below code gives coutry with highst number of terrorist events\n",
        "print('Most affected country:', new_df['Country'].value_counts().idxmax())"
      ],
      "metadata": {
        "id": "uOrE3o4ot2cm"
      },
      "execution_count": null,
      "outputs": []
    },
    {
      "cell_type": "code",
      "source": [
        "# Finding count of unique values in region_txt column.\n",
        "new_df.Region.nunique()"
      ],
      "metadata": {
        "id": "EC1oqpyM-FHY"
      },
      "execution_count": null,
      "outputs": []
    },
    {
      "cell_type": "markdown",
      "source": [
        "# 12 Gergraphical regions. Considering large of count of countries, geographical region seems easier option to explore geaugraphy wise proporties of availble data"
      ],
      "metadata": {
        "id": "oqqhJgt5p7On"
      }
    },
    {
      "cell_type": "code",
      "source": [
        "# Lets see what are 12 regions.\n",
        "new_df.Region.unique()"
      ],
      "metadata": {
        "id": "mM5pYTyd-P1_"
      },
      "execution_count": null,
      "outputs": []
    },
    {
      "cell_type": "code",
      "source": [
        "# And here we can see region wise number of reported events\n",
        "new_df.Region.value_counts()"
      ],
      "metadata": {
        "id": "aIvRvdZ81SGO"
      },
      "execution_count": null,
      "outputs": []
    },
    {
      "cell_type": "code",
      "source": [
        "# Middle East & North Africa is region with maximum events, lets create a dataframe for same and see properties of this continent\n",
        "df_middle_east_asia = new_df[new_df.Region == 'Middle East & North Africa']"
      ],
      "metadata": {
        "id": "styqTJDP1ao4"
      },
      "execution_count": null,
      "outputs": []
    },
    {
      "cell_type": "code",
      "source": [
        "df_middle_east_asia.head()"
      ],
      "metadata": {
        "id": "VF7sTCXoRnXr"
      },
      "execution_count": null,
      "outputs": []
    },
    {
      "cell_type": "code",
      "source": [
        "# Lets see country wise reported events in Middle East & North Africa\n",
        "df_middle_east_asia.Country.value_counts()"
      ],
      "metadata": {
        "id": "yMu2To4hEeoD"
      },
      "execution_count": null,
      "outputs": []
    },
    {
      "cell_type": "markdown",
      "source": [
        "# If we look at the percentage of events in Iraq with resepect to world and the region, it is evident Iraq has been the most affected country"
      ],
      "metadata": {
        "id": "wsAHlaRtTCCN"
      }
    },
    {
      "cell_type": "code",
      "source": [
        "# Percentage of attacks in Iraq with respect to world\n",
        "\n",
        "\n",
        "perc_of_attacks_on_Iraq = (new_df.Country[new_df.Country=='Iraq'].value_counts()) / new_df.eventid.nunique() *100\n",
        "perc_of_attacks_on_Iraq"
      ],
      "metadata": {
        "id": "AXSu0mM4OHj5"
      },
      "execution_count": null,
      "outputs": []
    },
    {
      "cell_type": "code",
      "source": [
        "# Percentage of attacks in Iraq with respect to region of Middle east asia and Africa\n",
        "perc_of_attacks_on_Iraq_wrt_region =(new_df.Country[new_df.Country=='Iraq'].value_counts()) / df_middle_east_asia.eventid.nunique() *100\n",
        "perc_of_attacks_on_Iraq_wrt_region"
      ],
      "metadata": {
        "id": "OIzonZZAShcD"
      },
      "execution_count": null,
      "outputs": []
    },
    {
      "cell_type": "markdown",
      "source": [
        "# If we look at the number of killings in Iraq and total number of reported killings, we find huge difference. Probably number of killings in Iraq were not reported only."
      ],
      "metadata": {
        "id": "iL9JIaM2UuLY"
      }
    },
    {
      "cell_type": "code",
      "source": [
        "print(new_df.loc[new_df['Killed'].idxmax(),'Country'],'is the most affected country with number of people killed',new_df.Killed[new_df.Country=='Iraq'].sum())"
      ],
      "metadata": {
        "id": "NthwjCJNFkrF"
      },
      "execution_count": null,
      "outputs": []
    },
    {
      "cell_type": "code",
      "source": [
        "new_df.Killed[new_df.Country=='Iraq'].sum()"
      ],
      "metadata": {
        "id": "dHXoLVdpUkeC"
      },
      "execution_count": null,
      "outputs": []
    },
    {
      "cell_type": "code",
      "source": [
        "# Total Reported killings in world from 1970 to 2017\n",
        "new_df.Killed.sum()"
      ],
      "metadata": {
        "id": "IkUibW4cjba1"
      },
      "execution_count": null,
      "outputs": []
    },
    {
      "cell_type": "markdown",
      "source": [
        "## Out of 205 counties in the world The percentage of of people killed only in Iraq is more than 19% of overall reported killings"
      ],
      "metadata": {
        "id": "QuJwcHsWIzG3"
      }
    },
    {
      "cell_type": "code",
      "source": [
        "# Percantage of people killed only in Iraq compated to overall killings\n",
        "Perc_killing_in_Iraq= new_df.Killed[new_df.Country=='Iraq'].sum() / new_df.Killed.sum() *100\n",
        "Perc_killing_in_Iraq"
      ],
      "metadata": {
        "id": "88YexZHFIjfD"
      },
      "execution_count": null,
      "outputs": []
    },
    {
      "cell_type": "markdown",
      "source": [
        "# Type of Terrorist attacks"
      ],
      "metadata": {
        "id": "c2NtCm10rmhr"
      }
    },
    {
      "cell_type": "code",
      "source": [
        "# Unique values in type of attack\n",
        "new_df.Type_Of_Attack.unique()"
      ],
      "metadata": {
        "id": "9y3ocaCY-T3r"
      },
      "execution_count": null,
      "outputs": []
    },
    {
      "cell_type": "markdown",
      "source": [
        "# Some more datacleaning in below 2 cells"
      ],
      "metadata": {
        "id": "vpoaZjcqJrAU"
      }
    },
    {
      "cell_type": "code",
      "source": [
        "# getting rid of all umknown values in complete dataframe\n",
        "new_df = new_df.replace(['Unknown'],None)"
      ],
      "metadata": {
        "id": "nXYbnDsK-jo4"
      },
      "execution_count": null,
      "outputs": []
    },
    {
      "cell_type": "code",
      "source": [
        "# getting rid of negative values in Damage_To_Prop\n",
        "new_df[new_df.Damage_To_Prop<0]=0"
      ],
      "metadata": {
        "id": "J5DTDq2nstk9"
      },
      "execution_count": null,
      "outputs": []
    },
    {
      "cell_type": "code",
      "source": [
        "new_df.Damage_To_Prop.min()"
      ],
      "metadata": {
        "id": "eZiSFOGQvOZr"
      },
      "execution_count": null,
      "outputs": []
    },
    {
      "cell_type": "code",
      "source": [
        "# Combining 2x types of Hostage Taking into one for further analysis\n",
        "new_df['Type_Of_Attack'] = new_df['Type_Of_Attack'].replace(['Hostage Taking (Kidnapping)','Hostage Taking (Barricade Incident)'],['Hostage Taking','Hostage Taking'])"
      ],
      "metadata": {
        "id": "tbMhxbJlCsFm"
      },
      "execution_count": null,
      "outputs": []
    },
    {
      "cell_type": "code",
      "source": [
        "# Just checking if previous code did the job\n",
        "new_df.Type_Of_Attack.unique()"
      ],
      "metadata": {
        "id": "VnhpUFuP_68L"
      },
      "execution_count": null,
      "outputs": []
    },
    {
      "cell_type": "code",
      "source": [
        "# Lets check out what have bin the top targets of terrorist\n",
        "new_df.Target_Group.unique()"
      ],
      "metadata": {
        "id": "RQRnnw7P_-ZC"
      },
      "execution_count": null,
      "outputs": []
    },
    {
      "cell_type": "code",
      "source": [
        "# Count of different targets of terrorists\n",
        "new_df.Target_Group.nunique()"
      ],
      "metadata": {
        "id": "lF-OKwEUDzNp"
      },
      "execution_count": null,
      "outputs": []
    },
    {
      "cell_type": "markdown",
      "source": [
        "##%matplotlib inline sets the backend of matplotlib to the 'inline' backend\n",
        "With this backend, the output of plotting commands is displayed inline within frontends like the Jupyter notebook, directly below the code cell that produced it. The resulting plots will then also be stored in the notebook document."
      ],
      "metadata": {
        "id": "6C0NueQ5g1Wm"
      }
    },
    {
      "cell_type": "code",
      "source": [
        "%lsmagic"
      ],
      "metadata": {
        "id": "8riuOTy_xfIj"
      },
      "execution_count": null,
      "outputs": []
    },
    {
      "cell_type": "code",
      "source": [
        "from datetime import datetime\n",
        "\n",
        "# Importing matplotlib.pyplot \n",
        "import matplotlib.pyplot as plt\n",
        "%matplotlib inline"
      ],
      "metadata": {
        "id": "4YEoyEm_gwfR"
      },
      "execution_count": null,
      "outputs": []
    },
    {
      "cell_type": "markdown",
      "source": [
        "Seaborn is a library for making statistical graphics in Python. It is built on top of matplotlib and closely integrated with pandas data structures."
      ],
      "metadata": {
        "id": "CK7w9NxsKoUe"
      }
    },
    {
      "cell_type": "code",
      "source": [
        "# importing seaborn for plotting\n",
        "import seaborn as sns\n",
        "import plotly.express as px"
      ],
      "metadata": {
        "id": "5peF43TnhLvg"
      },
      "execution_count": null,
      "outputs": []
    },
    {
      "cell_type": "markdown",
      "source": [
        "# Lets see year on year trend of attacks"
      ],
      "metadata": {
        "id": "t9mHWmpaoSe_"
      }
    },
    {
      "cell_type": "code",
      "source": [
        "# Finding yearly number of attacks\n",
        "new_df['Year'].value_counts()"
      ],
      "metadata": {
        "id": "z7Bd2R2xsSvG"
      },
      "execution_count": null,
      "outputs": []
    },
    {
      "cell_type": "code",
      "source": [
        "# Storing year wise attacks in a new dataframe\n",
        "year_wise = new_df['Year'].value_counts()"
      ],
      "metadata": {
        "id": "64k2vRksju-k"
      },
      "execution_count": null,
      "outputs": []
    },
    {
      "cell_type": "code",
      "source": [
        "# Sorting year wise \n",
        "year_wise.sort_index(inplace=True)"
      ],
      "metadata": {
        "id": "mv-d7WWnkMju"
      },
      "execution_count": null,
      "outputs": []
    },
    {
      "cell_type": "markdown",
      "source": [
        "#Year On Year plot of reported attacks\n",
        "It is evident from plot 2014 has been the worst affected year in terms of number of attacks and after that we are seeing gradual decline in coming years. From year 1997 to 1998 number of atatcks reduced by almost 1/3rd and attack counts were on nearly flat trend till 2004. 2004 onwards we see significant increase in terrorist activities."
      ],
      "metadata": {
        "id": "9QfVEPEfNVRy"
      }
    },
    {
      "cell_type": "code",
      "source": [
        "# Using Seaborn for plotting year on trend of number of attacks\n",
        "sns.set_style('white')\n",
        "plt.figure(figsize=(25,10))\n",
        "plt.title(\"Yearwise count of attacks\")\n",
        "sns.countplot(x ='Year', data = new_df, palette='crest')"
      ],
      "metadata": {
        "id": "bh6GEIx6NuEa"
      },
      "execution_count": null,
      "outputs": []
    },
    {
      "cell_type": "markdown",
      "source": [
        "As seen previous graph 2014 onwards we see gradual decrease in number of attacks and from below trend of successful (=1) and unsuccessful(=0) over the years, 2014 onwards there has been gradual increase in unsuccessful attacks. This possibly because goverment agencies were able to neutralize attacks more efficiently."
      ],
      "metadata": {
        "id": "lM9o0fpYSvgQ"
      }
    },
    {
      "cell_type": "code",
      "source": [
        "# creating dataframe of year wise success/failure count \n",
        "year_wise_success=new_df.groupby(['Year','Success'])['Success'].count().unstack()"
      ],
      "metadata": {
        "id": "-AVFWpiaiW3B"
      },
      "execution_count": null,
      "outputs": []
    },
    {
      "cell_type": "code",
      "source": [
        "## Year wise success and unsuccessful\n",
        "\n",
        "year_wise_success.plot(kind='bar',figsize=(15,6))\n",
        "plt.title('Year on Year successful / failed attacks',size=20)\n",
        "plt.ylabel('Number of attacks',size=20)\n",
        "plt.xlabel('Year',size=20)"
      ],
      "metadata": {
        "id": "A2xUmE9PoWVJ"
      },
      "execution_count": null,
      "outputs": []
    },
    {
      "cell_type": "markdown",
      "source": [
        "# Top 10 countries with terrorist activities"
      ],
      "metadata": {
        "id": "zwcKnCfiT74b"
      }
    },
    {
      "cell_type": "code",
      "source": [
        "# Using seaborn for country wise (top 10) terrorist activities plot (number of reported attacks)\n",
        "plt.subplots(figsize=(16,10))\n",
        "sns.barplot(new_df['Country'].value_counts()[:10].values,new_df['Country'].value_counts()[:10].index,palette='magma')\n",
        "plt.title('Terrorist Attacks CountryWise',size=20)\n",
        "plt.ylabel('Country',size=20)\n",
        "plt.xlabel('Number of attacks',size=20)\n",
        "plt.show()"
      ],
      "metadata": {
        "id": "LKDXVCVZT64B"
      },
      "execution_count": null,
      "outputs": []
    },
    {
      "cell_type": "markdown",
      "source": [
        "# Top 10 countries with highest number of reported killings\n",
        "## Surpise : Phillipines, United Kingdom , Turkey these are 4 countries though in top 10 attacked countries, these countries are not in top 10 count of killings.\n",
        "## Nigeria though not in top 10 attacked countries, it is 4th highest country with reported killings.\n"
      ],
      "metadata": {
        "id": "U0jqAEO-f9Ad"
      }
    },
    {
      "cell_type": "code",
      "source": [
        "# Code for plotting top 10 countries with highest reported killings\n",
        "\n",
        "kills = new_df.groupby(['Country'])['Killed'].sum().reset_index()\n",
        "\n",
        "kills=kills.sort_values(by='Killed',ascending=False).reset_index()\n",
        "kills=kills.head(10).sort_values(by='Killed',ascending=True)\n",
        "plt.subplots(figsize=(18,6))\n",
        "sns.barplot(x ='Country', y='Killed', data = kills, palette='Greys')\n",
        "plt.title('Country Wise Killings',size=20)\n",
        "plt.ylabel('People Killed',size=20)\n",
        "plt.xlabel('Country',size=20)\n",
        "plt.show()\n"
      ],
      "metadata": {
        "id": "vJ5s55s2T6gL"
      },
      "execution_count": null,
      "outputs": []
    },
    {
      "cell_type": "code",
      "source": [
        "'''px.scatter(new_df,new_df.Wounded,new_df.Killed,hover_name='Country',animation_frame='Year',animation_group='Country',color='Country',\n",
        "range_color=[0,1],labels={'Killed':'Deaths','Wounded':'Casualities'},\n",
        "title='Number of casualities vs Killed people in each country for each year')'''"
      ],
      "metadata": {
        "id": "fTo-dYhtZctf"
      },
      "execution_count": null,
      "outputs": []
    },
    {
      "cell_type": "markdown",
      "source": [
        "# Region wise number of attacks plot over years\n",
        "## Graph area shows 'Middle east & North africa' and 'South Asia' are the regions with highest number terrorist activities"
      ],
      "metadata": {
        "id": "KA6_YpDSkUp4"
      }
    },
    {
      "cell_type": "code",
      "source": [
        "new_df.Region.describe()"
      ],
      "metadata": {
        "id": "sli2H_kayIsw"
      },
      "execution_count": null,
      "outputs": []
    },
    {
      "cell_type": "code",
      "source": [
        "# Grouping the reported events count with year and region\n",
        "year_region_wise_count=new_df.groupby(['Year','Region'])['Region'].count().unstack()\n",
        "# Plotting region wise reported events year on year with plot type - area\n",
        "year_region_wise_count.plot(kind='area',figsize=(16,8))\n",
        "plt.title('Year and Region wise reported attacks',size=20)\n",
        "plt.ylabel('Count of attacks',size=15)\n",
        "plt.xlabel('Year',size=15)"
      ],
      "metadata": {
        "id": "P2odf0jAlwl9"
      },
      "execution_count": null,
      "outputs": []
    },
    {
      "cell_type": "markdown",
      "source": [
        "# Top 5 regions terrorist activity over the period of 1970 to 2017"
      ],
      "metadata": {
        "id": "7ZN5HAD0wjPE"
      }
    },
    {
      "cell_type": "code",
      "source": [
        "top_regions=new_df[new_df['Region'].isin(new_df['Region'].value_counts()[0:5].index)]\n",
        "pd.crosstab(top_regions.Year,top_regions.Region).plot(color=sns.color_palette('Paired',10))\n",
        "fig=plt.gcf()\n",
        "fig.set_size_inches(18,6)\n",
        "plt.vlines(x=2000,ymin=0,ymax=7000,colors='red',linestyles='--')\n",
        "plt.title('Top 5 regions with highest number of terrorist attack',size=20)\n",
        "plt.show()"
      ],
      "metadata": {
        "id": "_f2WWeuajwYh"
      },
      "execution_count": null,
      "outputs": []
    },
    {
      "cell_type": "markdown",
      "source": [
        ""
      ],
      "metadata": {
        "id": "gvkU52mwoL74"
      }
    },
    {
      "cell_type": "markdown",
      "source": [
        "# Remarks:\n",
        "## From 1970s to early 2000s south america and western europe were on higher for reported attacks however, after 2000s we see these 2 countries with very low reported attacks. \n",
        "## Post 2000s till 2017 we see tremendeous increase in terrorist activities in 'Middle east & North Africa', 'South Asia' and ' Sub-Saharan Africa'"
      ],
      "metadata": {
        "id": "QaHLGtISxYHm"
      }
    },
    {
      "cell_type": "markdown",
      "source": [
        "# Region wise killings due to terrorist attacks"
      ],
      "metadata": {
        "id": "qLXmc84s3Hgx"
      }
    },
    {
      "cell_type": "code",
      "source": [
        "region_wise_killing=new_df.groupby(['Region'])['Killed'].sum().reset_index()\n",
        "region_wise_killing=region_wise_killing.sort_values(by='Killed',ascending=True).reset_index()"
      ],
      "metadata": {
        "id": "ZXO7U6G_orPo"
      },
      "execution_count": null,
      "outputs": []
    },
    {
      "cell_type": "code",
      "source": [
        "plt.subplots(figsize=(18,6))\n",
        "sns.barplot(y ='Region', x='Killed', data = region_wise_killing, palette='Blues')\n",
        "plt.title('Region Wise Killings',size=20)\n",
        "plt.ylabel('People Killed',size=15)\n",
        "plt.xlabel('Region',size=15)\n",
        "plt.show()\n"
      ],
      "metadata": {
        "id": "lnTgQjr5q2wr"
      },
      "execution_count": null,
      "outputs": []
    },
    {
      "cell_type": "markdown",
      "source": [
        "##Remarks\n",
        "--> Middle East & North Africa, South Asia, Sub-saharan Africa are top 3 regions where most amount of killings happened."
      ],
      "metadata": {
        "id": "kIh2wnuunuuf"
      }
    },
    {
      "cell_type": "markdown",
      "source": [
        "# Explore type of attacks and correlations"
      ],
      "metadata": {
        "id": "0hyWuFW66uPS"
      }
    },
    {
      "cell_type": "code",
      "source": [
        "# Basic information on type of attacks\n",
        "new_df.Type_Of_Attack.describe()"
      ],
      "metadata": {
        "id": "FFOGinVP5H22"
      },
      "execution_count": null,
      "outputs": []
    },
    {
      "cell_type": "code",
      "source": [
        "# Create a new df with type of attacks and its occurance\n",
        "{'Type_Of_Attack': new_df['Type_Of_Attack'].value_counts().index,\n",
        "'number_of_attacks': new_df['Type_Of_Attack'].value_counts().values}\n",
        "distribution_attack_wise = pd.DataFrame({'Type_Of_Attack': new_df['Type_Of_Attack'].value_counts().index,\n",
        "                                        'number_of_attacks': new_df['Type_Of_Attack'].value_counts().values})\n",
        "distribution_attack_wise"
      ],
      "metadata": {
        "id": "sERQ-9rtvG2_"
      },
      "execution_count": null,
      "outputs": []
    },
    {
      "cell_type": "code",
      "source": [
        "# Plotting the type of attacksw with its occurance\n",
        "distribution_attack_wise.plot(x='Type_Of_Attack',y='number_of_attacks',kind='pie',autopct='%1.1f%%',figsize = (10,10))"
      ],
      "metadata": {
        "id": "hPRmrBgm5d2z"
      },
      "execution_count": null,
      "outputs": []
    },
    {
      "cell_type": "code",
      "source": [
        ""
      ],
      "metadata": {
        "id": "ZgzmHi7zpi5x"
      },
      "execution_count": null,
      "outputs": []
    },
    {
      "cell_type": "markdown",
      "source": [
        "## Remarks:\n",
        "From above graph it very evident more than 50% of attacks are Bombing and explosion types, followed by armed assault and assassinations in 2nd and 3rd place resepectively"
      ],
      "metadata": {
        "id": "E91-cByL9hZW"
      }
    },
    {
      "cell_type": "code",
      "source": [
        "year_attacktype_Wise_killings=new_df.groupby(['Year','Type_Of_Attack'])['Killed'].sum().unstack()"
      ],
      "metadata": {
        "id": "0zAWP52BtGsa"
      },
      "execution_count": null,
      "outputs": []
    },
    {
      "cell_type": "code",
      "source": [
        "year_attacktype_Wise_killings.plot(kind='line',figsize=(18,10))"
      ],
      "metadata": {
        "id": "GQSWlBIWssEz"
      },
      "execution_count": null,
      "outputs": []
    },
    {
      "cell_type": "markdown",
      "source": [
        "# Observations from year on year trend of kilings from various types of attacks.\n",
        "## Before 2000-2002 Armed assault was prominent reason for death of people, 2003 onwards Bombing/Explosion became the top reason for death.\n",
        "## During 2000 to 2002 death due to hijacking were at peak"
      ],
      "metadata": {
        "id": "jQchyxnH_C8N"
      }
    },
    {
      "cell_type": "markdown",
      "source": [
        "# Terrorist Group Wise activities"
      ],
      "metadata": {
        "id": "mJTMkZWuFYeK"
      }
    },
    {
      "cell_type": "code",
      "source": [
        "# Basic propoerties of Terrorist group column\n",
        "new_df.Terrorist_Group.describe()"
      ],
      "metadata": {
        "id": "BzWbOHjj4xQo"
      },
      "execution_count": null,
      "outputs": []
    },
    {
      "cell_type": "code",
      "source": [
        "# Total number of people killed\n",
        "new_df.Killed.sum()"
      ],
      "metadata": {
        "id": "CWRdw_scBoQJ"
      },
      "execution_count": null,
      "outputs": []
    },
    {
      "cell_type": "code",
      "source": [
        "# PLotting terrorist gang wise total killings\n",
        "\n",
        "gangwise_kill= new_df.groupby(['Terrorist_Group'])['Killed'].sum().reset_index()\n",
        "\n",
        "gangwise_kill=gangwise_kill.sort_values(by='Killed',ascending=False).reset_index()\n",
        "gangwise_kill=gangwise_kill.head(10).sort_values(by='Killed',ascending=True)\n",
        "plt.subplots(figsize=(18,6))\n",
        "sns.barplot(x ='Killed', y='Terrorist_Group', data = gangwise_kill, palette='Greys')\n",
        "plt.title('Terrorist Organization Wise Killings',size=20)\n",
        "plt.ylabel('People Killed',size=20)\n",
        "plt.xlabel('Terrorist Organization',size=20)\n",
        "plt.show()"
      ],
      "metadata": {
        "id": "r2n1ZDHJsxSK"
      },
      "execution_count": null,
      "outputs": []
    },
    {
      "cell_type": "markdown",
      "source": [
        "## Islamic state of Iraq and the levant (ISIL) and Taliban are the terrorist orgnizations reponsible for highest number of killings, both combinely contribute to more than 21% of total killings"
      ],
      "metadata": {
        "id": "RQtwn6PMF1KY"
      }
    },
    {
      "cell_type": "code",
      "source": [
        "gangwise_kill.head(10)"
      ],
      "metadata": {
        "id": "UeppUN-D0YeN"
      },
      "execution_count": null,
      "outputs": []
    },
    {
      "cell_type": "markdown",
      "source": [
        "# Lets find out what are most favourite targets of terrorists"
      ],
      "metadata": {
        "id": "JI9dssebHPcv"
      }
    },
    {
      "cell_type": "code",
      "source": [
        "#Finding type of target\n",
        "plt.figure(figsize=(13,6))\n",
        "sns.countplot(new_df['Target_Group'],order=new_df['Target_Group'].value_counts().index,\n",
        "palette='magma')\n",
        "plt.xticks(rotation=90)\n",
        "plt.xlabel('Type')\n",
        "plt.title('Type of Target')\n",
        "plt.show()"
      ],
      "metadata": {
        "id": "Hux9mNeg21Jw"
      },
      "execution_count": null,
      "outputs": []
    },
    {
      "cell_type": "markdown",
      "source": [
        "## From above plot we can see Private Citizens & properties, Military and Police are the top 3 favourite targets by terrorists"
      ],
      "metadata": {
        "id": "CGerIcjaHeaR"
      }
    },
    {
      "cell_type": "markdown",
      "source": [
        "## Lets try to plot a global map showing number of attacks in various parts of the world"
      ],
      "metadata": {
        "id": "SYwmlCXpI_n-"
      }
    },
    {
      "cell_type": "code",
      "source": [
        "country_Wise_attacks=pd.DataFrame({'country': new_df['Country'].value_counts().index,\n",
        "'number_of_attacks': new_df['Country'].value_counts().values})\n",
        "fig = px.choropleth(country_Wise_attacks, locations=\"country\",\n",
        "locationmode='country names', color=\"number_of_attacks\",\n",
        "hover_name=\"country\", range_color=[1, 1000],\n",
        "color_continuous_scale=\"reds\",title='Number of terrorist attacks by country')\n",
        "((fig.update(layout_coloraxis_showscale=True,)))\n",
        "fig.show()"
      ],
      "metadata": {
        "id": "Ns3KMnsGG1Du"
      },
      "execution_count": null,
      "outputs": []
    },
    {
      "cell_type": "code",
      "source": [
        "attack_type_df = pd.pivot_table(new_df,index=['Type_Of_Attack'] , values=['Killed','Damage_To_Prop','Success','ransompaid'], aggfunc=np.sum,sort=True).sort_values(by=['Killed','Damage_To_Prop','ransompaid','Success'],ascending=False).reset_index()\n",
        "attack_type_df.head(10)"
      ],
      "metadata": {
        "id": "zteQRWAMfi7q"
      },
      "execution_count": null,
      "outputs": []
    },
    {
      "cell_type": "code",
      "source": [
        "coutnry_Wise_avg_damages=pd.pivot_table(new_df,index=['Country'] , values=['Damage_To_Prop'], aggfunc=np.mean,sort=True).reset_index()\n",
        "coutnry_Wise_avg_damages=coutnry_Wise_avg_damages.rename(columns={'Damage_To_Prop':'Avg_Damage_To_Prop'})\n",
        "coutnry_Wise_avg_damages"
      ],
      "metadata": {
        "id": "rbk51bX6fAfr"
      },
      "execution_count": null,
      "outputs": []
    },
    {
      "cell_type": "code",
      "source": [
        "pd.merge(attack_type_df, distribution_attack_wise, on='Type_Of_Attack', how='inner')"
      ],
      "metadata": {
        "id": "XeZ3KHfPknA8"
      },
      "execution_count": null,
      "outputs": []
    },
    {
      "cell_type": "code",
      "source": [
        "attack_country_df = pd.pivot_table(new_df,index=['Type_Of_Attack','Country'] , values=['Killed','Damage_To_Prop','Success','ransompaid'], aggfunc=np.sum,sort=True).sort_values(by=['Killed','Damage_To_Prop','ransompaid','Success'],ascending=False)"
      ],
      "metadata": {
        "id": "rEVQfoVaIvsE"
      },
      "execution_count": null,
      "outputs": []
    },
    {
      "cell_type": "code",
      "source": [
        "country_attack_agg_df=pd.pivot_table(new_df,index=['Country','Type_Of_Attack'] , values=['Killed','Damage_To_Prop','Success','ransompaid'], aggfunc=np.sum,sort=True).sort_values(by=['Killed','Damage_To_Prop','ransompaid','Success'],ascending=False)"
      ],
      "metadata": {
        "id": "ashHRnYtA_y1"
      },
      "execution_count": null,
      "outputs": []
    },
    {
      "cell_type": "code",
      "source": [
        "country_attack_agg_df_unsorted=pd.pivot_table(new_df,index=['Country','Type_Of_Attack'] , values=['Killed','Damage_To_Prop','Success','ransompaid'], aggfunc=np.sum,sort=True)\n",
        "country_attack_agg_df_unsorted.head(10)"
      ],
      "metadata": {
        "id": "RDwYlhuDagze"
      },
      "execution_count": null,
      "outputs": []
    },
    {
      "cell_type": "code",
      "source": [
        "new_df.info()"
      ],
      "metadata": {
        "id": "OvzAEJPTvCoS"
      },
      "execution_count": null,
      "outputs": []
    },
    {
      "cell_type": "code",
      "source": [
        "world_Fre=new_df.groupby('Terrorist_Group')['eventid'].count().reset_index().rename(columns={'eventid':'Terrorist_Group'})"
      ],
      "metadata": {
        "id": "vFGFQDXVrJjy"
      },
      "execution_count": null,
      "outputs": []
    },
    {
      "cell_type": "code",
      "source": [
        "Terrorist_Group_dict={}\n",
        "for group,Terrorist_Group in zip(world_Fre.Terrorist_Group,world_Fre.Terrorist_Group  ):\n",
        "  Terrorist_Group_dict[group]=Terrorist_Group  "
      ],
      "metadata": {
        "id": "GdZ_ywThuihm"
      },
      "execution_count": null,
      "outputs": []
    },
    {
      "cell_type": "code",
      "source": [
        "from PIL import Image\n",
        "from wordcloud import WordCloud, STOPWORDS, ImageColorGenerator\n",
        "plt.rcParams['figure.figsize']=(20,20)\n",
        "plt.show()"
      ],
      "metadata": {
        "id": "ZcrJl_no4GxX"
      },
      "execution_count": null,
      "outputs": []
    },
    {
      "cell_type": "code",
      "source": [
        "'''wordcloud = WordCloud(background_color='white')\n",
        "wordcloud.generate_from_frequencies(frequencies = Terrorist_Group_dict,max_font_size=None)\n",
        "plt.figure()\n",
        "plt.imshow(wordcloud, interpolation=\"bilinear\")\n",
        "plt.title('Various Types of attacks')\n",
        "plt.axis(\"off\")\n",
        "plt.show()'''"
      ],
      "metadata": {
        "id": "2P7aSXHM4pwG"
      },
      "execution_count": null,
      "outputs": []
    },
    {
      "cell_type": "code",
      "source": [
        "'''wordcloud = WordCloud(width = 1000, height = 500).generate_from_frequencies(Terrorist_Group_dict)\n",
        "\n",
        "plt.figure(figsize=(15,8))\n",
        "plt.imshow(wordcloud)'''"
      ],
      "metadata": {
        "id": "gPykX7th5Dcn"
      },
      "execution_count": null,
      "outputs": []
    },
    {
      "cell_type": "code",
      "source": [
        "#df3 = new_df.groupby(\"Terrorist_Group\")"
      ],
      "metadata": {
        "id": "ZGdfynbHnXN_"
      },
      "execution_count": null,
      "outputs": []
    },
    {
      "cell_type": "code",
      "source": [
        "new_df.head(10)"
      ],
      "metadata": {
        "id": "D4mnGePKwA6t"
      },
      "execution_count": null,
      "outputs": []
    },
    {
      "cell_type": "code",
      "source": [
        "new_df.Type_Of_Attack.describe()"
      ],
      "metadata": {
        "id": "_2f7OcaRwTWY"
      },
      "execution_count": null,
      "outputs": []
    },
    {
      "cell_type": "code",
      "source": [
        "distribution_attack_wise = pd.DataFrame({'Type_Of_Attack': new_df['Type_Of_Attack'].value_counts().index,\n",
        "                                        'eventid': new_df['Type_Of_Attack'].value_counts().values})\n",
        "distribution_attack_wise"
      ],
      "metadata": {
        "id": "OxPaqw4lpax5"
      },
      "execution_count": null,
      "outputs": []
    },
    {
      "cell_type": "code",
      "source": [
        "world_Fre1=distribution_attack_wise.groupby('Type_Of_Attack')['number_of_attacks'].count().reset_index().rename(columns={'number_of_attacks':'Type_Of_Attack'})"
      ],
      "metadata": {
        "id": "GUbdU125pc1t"
      },
      "execution_count": null,
      "outputs": []
    },
    {
      "cell_type": "code",
      "source": [
        "'''wordcloud = WordCloud(background_color='white')\n",
        "wordcloud.generate_from_frequencies(frequencies = world_Fre1,max_font_size=None)\n",
        "plt.figure()\n",
        "plt.imshow(wordcloud, interpolation=\"bilinear\")\n",
        "plt.title('Various Types of attacks')\n",
        "plt.axis(\"off\")\n",
        "plt.show()'''"
      ],
      "metadata": {
        "id": "gkGonmw6rPTH"
      },
      "execution_count": null,
      "outputs": []
    },
    {
      "cell_type": "markdown",
      "source": [
        "#Wordcloud\n"
      ],
      "metadata": {
        "id": "lW0pfrrWzE4M"
      }
    },
    {
      "cell_type": "code",
      "source": [
        "text1 = \" \".join(review for review in new_df.Region.astype(str))"
      ],
      "metadata": {
        "id": "BFOergFXzHkH"
      },
      "execution_count": null,
      "outputs": []
    },
    {
      "cell_type": "code",
      "source": [
        "WordCloud().generate(text1)"
      ],
      "metadata": {
        "id": "ihd8XzxfzVKC"
      },
      "execution_count": null,
      "outputs": []
    },
    {
      "cell_type": "code",
      "source": [
        "wordcloud = WordCloud(background_color=\"white\", width=800, height=400).generate(text1)"
      ],
      "metadata": {
        "id": "y9uaMazXzbzp"
      },
      "execution_count": null,
      "outputs": []
    },
    {
      "cell_type": "code",
      "source": [
        "plt.figure()\n",
        "plt.imshow(wordcloud, interpolation=\"bilinear\")\n",
        "plt.axis(\"off\")\n",
        "plt.show()"
      ],
      "metadata": {
        "id": "H0Tw0DClzg8j"
      },
      "execution_count": null,
      "outputs": []
    },
    {
      "cell_type": "code",
      "source": [
        "text2 = \" \".join(review for review in new_df.Type_Of_Attack.astype(str))\n",
        "WordCloud().generate(text1)\n",
        "wordcloud = WordCloud(background_color=\"white\", width=800, height=400).generate(text2)\n",
        "plt.figure()\n",
        "plt.imshow(wordcloud, interpolation=\"bilinear\")\n",
        "plt.axis(\"off\")\n",
        "plt.show()"
      ],
      "metadata": {
        "id": "8IUn6WFbzo5t"
      },
      "execution_count": null,
      "outputs": []
    },
    {
      "cell_type": "code",
      "source": [
        "text3 = \" \".join(review for review in new_df.Target_Group.astype(str))\n",
        "WordCloud().generate(text1)\n",
        "wordcloud = WordCloud(background_color=\"white\", width=800, height=400).generate(text3)\n",
        "plt.figure()\n",
        "plt.imshow(wordcloud, interpolation=\"bilinear\")\n",
        "plt.axis(\"off\")\n",
        "plt.show()"
      ],
      "metadata": {
        "id": "o9DseTMh0csZ"
      },
      "execution_count": null,
      "outputs": []
    },
    {
      "cell_type": "code",
      "source": [
        "text4 = \" \".join(review for review in new_df.Country.astype(str))\n",
        "WordCloud().generate(text1)\n",
        "wordcloud = WordCloud(background_color=\"white\", width=800, height=400).generate(text4)\n",
        "plt.figure()\n",
        "plt.imshow(wordcloud, interpolation=\"bilinear\")\n",
        "plt.axis(\"off\")\n",
        "plt.show()"
      ],
      "metadata": {
        "id": "uXmzcYO20xqB"
      },
      "execution_count": null,
      "outputs": []
    },
    {
      "cell_type": "code",
      "source": [
        ""
      ],
      "metadata": {
        "id": "F7El7cQi27JW"
      },
      "execution_count": null,
      "outputs": []
    }
  ]
}